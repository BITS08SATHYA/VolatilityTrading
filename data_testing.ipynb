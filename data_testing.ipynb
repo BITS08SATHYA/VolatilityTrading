{
 "cells": [
  {
   "metadata": {
    "ExecuteTime": {
     "end_time": "2024-12-22T20:27:30.340632Z",
     "start_time": "2024-12-22T20:27:30.336591Z"
    }
   },
   "cell_type": "code",
   "source": [
    "from openchart import NSEData\n",
    "import datetime\n",
    "\n",
    "# Initialize OpenChart\n",
    "oc = NSEData()"
   ],
   "id": "3f7db95d9d809484",
   "outputs": [],
   "execution_count": 15
  },
  {
   "cell_type": "code",
   "id": "initial_id",
   "metadata": {
    "collapsed": true,
    "ExecuteTime": {
     "end_time": "2024-12-22T20:26:13.829856Z",
     "start_time": "2024-12-22T20:26:13.806803Z"
    }
   },
   "source": [
    "from openchart import NSEData\n",
    "import datetime\n",
    "\n",
    "# Initialize OpenChart\n",
    "oc = NSEData()\n",
    "\n",
    "# Fetch historical data for NIFTY options\n",
    "# Replace with desired symbol, expiry, and date range\n",
    "symbol = \"NIFTY\"\n",
    "data_type = \"options\"\n",
    "expiry = \"2023-12-28\"  # Replace with a valid expiry date\n",
    "start_date = \"2014-01-01\"\n",
    "end_date = \"2023-12-31\"\n",
    "\n",
    "# Fetch the data\n",
    "historical_data = oc.get_data(symbol=symbol, data_type=data_type, \n",
    "                              expiry_date=expiry, start_date=start_date, end_date=end_date)\n",
    "\n",
    "# Print or process the data\n",
    "print(historical_data)\n"
   ],
   "outputs": [
    {
     "ename": "AttributeError",
     "evalue": "'NSEData' object has no attribute 'get_data'",
     "output_type": "error",
     "traceback": [
      "\u001B[0;31m---------------------------------------------------------------------------\u001B[0m",
      "\u001B[0;31mAttributeError\u001B[0m                            Traceback (most recent call last)",
      "Cell \u001B[0;32mIn[14], line 15\u001B[0m\n\u001B[1;32m     12\u001B[0m end_date \u001B[38;5;241m=\u001B[39m \u001B[38;5;124m\"\u001B[39m\u001B[38;5;124m2023-12-31\u001B[39m\u001B[38;5;124m\"\u001B[39m\n\u001B[1;32m     14\u001B[0m \u001B[38;5;66;03m# Fetch the data\u001B[39;00m\n\u001B[0;32m---> 15\u001B[0m historical_data \u001B[38;5;241m=\u001B[39m \u001B[43moc\u001B[49m\u001B[38;5;241;43m.\u001B[39;49m\u001B[43mget_data\u001B[49m(symbol\u001B[38;5;241m=\u001B[39msymbol, data_type\u001B[38;5;241m=\u001B[39mdata_type, \n\u001B[1;32m     16\u001B[0m                               expiry_date\u001B[38;5;241m=\u001B[39mexpiry, start_date\u001B[38;5;241m=\u001B[39mstart_date, end_date\u001B[38;5;241m=\u001B[39mend_date)\n\u001B[1;32m     18\u001B[0m \u001B[38;5;66;03m# Print or process the data\u001B[39;00m\n\u001B[1;32m     19\u001B[0m \u001B[38;5;28mprint\u001B[39m(historical_data)\n",
      "\u001B[0;31mAttributeError\u001B[0m: 'NSEData' object has no attribute 'get_data'"
     ]
    }
   ],
   "execution_count": 14
  },
  {
   "metadata": {
    "ExecuteTime": {
     "end_time": "2024-12-22T20:32:52.065051Z",
     "start_time": "2024-12-22T20:32:50.921620Z"
    }
   },
   "cell_type": "code",
   "source": [
    "nse = NSEData()\n",
    "nse.download()\n",
    "end_date = datetime.datetime.now()\n",
    "start_date = end_date - datetime.timedelta(days=30)\n",
    "\n",
    "# data = nse.historical(\n",
    "#     symbol='NIFTY24N2124800CE',\n",
    "#     exchange='NFO',\n",
    "#     start=start_date,\n",
    "#     end=end_date,\n",
    "#     # interval='15m'\n",
    "# )\n",
    "# print(data)\n",
    "\n",
    "data = nse.historical(\n",
    "    symbol='NIFTY24OCTFUT',\n",
    "    exchange='NFO',\n",
    "    start=start_date,\n",
    "    end=end_date\n",
    ")\n",
    "print(data)\n",
    "\n",
    "\n",
    "# symbols = nse.search('NIFTY24N21', exchange='NFO')\n",
    "# print(symbols)\n"
   ],
   "id": "6dcc5b258b912b38",
   "outputs": [
    {
     "name": "stdout",
     "output_type": "stream",
     "text": [
      "NSE data shape: (2839, 4)\n",
      "NFO data shape: (87523, 4)\n",
      "NSE and NFO data downloaded successfully.\n",
      "No matching result found for symbol 'NIFTY24OCTFUT' in NFO.\n",
      "Empty DataFrame\n",
      "Columns: []\n",
      "Index: []\n"
     ]
    }
   ],
   "execution_count": 21
  },
  {
   "metadata": {
    "ExecuteTime": {
     "end_time": "2024-12-22T20:33:13.461397Z",
     "start_time": "2024-12-22T20:33:12.893340Z"
    }
   },
   "cell_type": "code",
   "source": [
    "from nsepy import get_history\n",
    "import datetime\n",
    "\n",
    "start_date = datetime.date(2023, 1, 1)\n",
    "end_date = datetime.date(2023, 12, 31)\n",
    "\n",
    "data = get_history(\n",
    "    symbol=\"NIFTY\",\n",
    "    index=True,\n",
    "    option_type=\"CE\",\n",
    "    strike_price=24800,\n",
    "    expiry_date=datetime.date(2024, 11, 21),\n",
    "    start=start_date,\n",
    "    end=end_date\n",
    ")\n",
    "print(data)\n"
   ],
   "id": "692b433bf886c7b9",
   "outputs": [
    {
     "name": "stdout",
     "output_type": "stream",
     "text": [
      "Empty DataFrame\n",
      "Columns: [Symbol, Expiry, Option Type, Strike Price, Open, High, Low, Close, Last, Settle Price, Number of Contracts, Turnover, Premium Turnover, Open Interest, Change in OI, Underlying]\n",
      "Index: []\n"
     ]
    }
   ],
   "execution_count": 22
  },
  {
   "metadata": {
    "ExecuteTime": {
     "end_time": "2024-12-22T20:37:39.740445Z",
     "start_time": "2024-12-22T20:37:38.641704Z"
    }
   },
   "cell_type": "code",
   "source": [
    "nse = NSEData()\n",
    "nse.download()\n",
    "\n",
    "# Initialize the NSE object\n",
    "\n",
    "# Search for symbols using a keyword\n",
    "symbols = nse.search('NIFTY16', exchange='NFO')  # 'NFO' is for derivatives (Futures and Options)\n",
    "print(symbols)\n"
   ],
   "id": "e2961f97dbca132a",
   "outputs": [
    {
     "name": "stdout",
     "output_type": "stream",
     "text": [
      "NSE data shape: (2839, 4)\n",
      "NFO data shape: (87523, 4)\n",
      "NSE and NFO data downloaded successfully.\n",
      "No matching result found for symbol 'NIFTY16' in NFO.\n",
      "Empty DataFrame\n",
      "Columns: []\n",
      "Index: []\n"
     ]
    }
   ],
   "execution_count": 37
  },
  {
   "metadata": {
    "ExecuteTime": {
     "end_time": "2024-12-22T20:40:36.133062Z",
     "start_time": "2024-12-22T20:40:35.982058Z"
    }
   },
   "cell_type": "code",
   "source": [
    "from nsepy import get_history\n",
    "import datetime\n",
    "\n",
    "# Define parameters\n",
    "symbol = \"NIFTY\"\n",
    "option_type = \"CE\"  # 'CE' for Call, 'PE' for Put\n",
    "strike_price = 18000\n",
    "expiry_date = datetime.date(2023, 12, 28)  # Option expiry date\n",
    "start_date = datetime.date(2023, 1, 1)  # Start date of the data\n",
    "end_date = datetime.date(2023, 12, 31)  # End date of the data\n",
    "\n",
    "# Fetch data\n",
    "data = get_history(\n",
    "    symbol=\"NIFTY\",\n",
    "    index=True,\n",
    "    option_type=\"CE\",  # 'PE' for put\n",
    "    strike_price=24800,  # Valid strike price\n",
    "    expiry_date=datetime.date(2023, 11, 30),  # Valid expiry\n",
    "    start=datetime.date(2023, 11, 1),\n",
    "    end=datetime.date(2023, 11, 30)\n",
    ")\n",
    "print(data)\n",
    "\n"
   ],
   "id": "a7010bbe39f4e6eb",
   "outputs": [
    {
     "name": "stdout",
     "output_type": "stream",
     "text": [
      "Empty DataFrame\n",
      "Columns: [Symbol, Expiry, Option Type, Strike Price, Open, High, Low, Close, Last, Settle Price, Number of Contracts, Turnover, Premium Turnover, Open Interest, Change in OI, Underlying]\n",
      "Index: []\n"
     ]
    }
   ],
   "execution_count": 49
  },
  {
   "metadata": {
    "ExecuteTime": {
     "end_time": "2024-12-22T20:46:48.070740Z",
     "start_time": "2024-12-22T20:46:47.849638Z"
    }
   },
   "cell_type": "code",
   "source": [
    "import quandl\n",
    "\n",
    "# Set your API key\n",
    "quandl.ApiConfig.api_key = \"esWdmx_hK73zGbVQha7y\"\n",
    "\n",
    "# Example for NIFTY index data (replace with your specific dataset code)\n",
    "data = quandl.get(\"NSE/NIFTY_50\", start_date=\"2023-01-01\", end_date=\"2023-12-31\")\n",
    "\n",
    "# Display the data\n",
    "print(data)\n",
    "\n"
   ],
   "id": "2f5f1883712b09bb",
   "outputs": [
    {
     "ename": "QuandlError",
     "evalue": "(Status 403) Something went wrong. Please try again. If you continue to have problems, please contact us at connect@quandl.com.",
     "output_type": "error",
     "traceback": [
      "\u001B[0;31m---------------------------------------------------------------------------\u001B[0m",
      "\u001B[0;31mJSONDecodeError\u001B[0m                           Traceback (most recent call last)",
      "File \u001B[0;32m~/Documents/NYU/Sems/Fall_2024/Statistical_Arbitarage/FinalProject/optionsVolatility/venv/lib/python3.12/site-packages/requests/models.py:974\u001B[0m, in \u001B[0;36mResponse.json\u001B[0;34m(self, **kwargs)\u001B[0m\n\u001B[1;32m    973\u001B[0m \u001B[38;5;28;01mtry\u001B[39;00m:\n\u001B[0;32m--> 974\u001B[0m     \u001B[38;5;28;01mreturn\u001B[39;00m \u001B[43mcomplexjson\u001B[49m\u001B[38;5;241;43m.\u001B[39;49m\u001B[43mloads\u001B[49m\u001B[43m(\u001B[49m\u001B[38;5;28;43mself\u001B[39;49m\u001B[38;5;241;43m.\u001B[39;49m\u001B[43mtext\u001B[49m\u001B[43m,\u001B[49m\u001B[43m \u001B[49m\u001B[38;5;241;43m*\u001B[39;49m\u001B[38;5;241;43m*\u001B[39;49m\u001B[43mkwargs\u001B[49m\u001B[43m)\u001B[49m\n\u001B[1;32m    975\u001B[0m \u001B[38;5;28;01mexcept\u001B[39;00m JSONDecodeError \u001B[38;5;28;01mas\u001B[39;00m e:\n\u001B[1;32m    976\u001B[0m     \u001B[38;5;66;03m# Catch JSON-related errors and raise as requests.JSONDecodeError\u001B[39;00m\n\u001B[1;32m    977\u001B[0m     \u001B[38;5;66;03m# This aliases json.JSONDecodeError and simplejson.JSONDecodeError\u001B[39;00m\n",
      "File \u001B[0;32m~/Documents/NYU/Sems/Fall_2024/Statistical_Arbitarage/FinalProject/optionsVolatility/venv/lib/python3.12/site-packages/simplejson/__init__.py:514\u001B[0m, in \u001B[0;36mloads\u001B[0;34m(s, encoding, cls, object_hook, parse_float, parse_int, parse_constant, object_pairs_hook, use_decimal, allow_nan, **kw)\u001B[0m\n\u001B[1;32m    510\u001B[0m \u001B[38;5;28;01mif\u001B[39;00m (\u001B[38;5;28mcls\u001B[39m \u001B[38;5;129;01mis\u001B[39;00m \u001B[38;5;28;01mNone\u001B[39;00m \u001B[38;5;129;01mand\u001B[39;00m encoding \u001B[38;5;129;01mis\u001B[39;00m \u001B[38;5;28;01mNone\u001B[39;00m \u001B[38;5;129;01mand\u001B[39;00m object_hook \u001B[38;5;129;01mis\u001B[39;00m \u001B[38;5;28;01mNone\u001B[39;00m \u001B[38;5;129;01mand\u001B[39;00m\n\u001B[1;32m    511\u001B[0m         parse_int \u001B[38;5;129;01mis\u001B[39;00m \u001B[38;5;28;01mNone\u001B[39;00m \u001B[38;5;129;01mand\u001B[39;00m parse_float \u001B[38;5;129;01mis\u001B[39;00m \u001B[38;5;28;01mNone\u001B[39;00m \u001B[38;5;129;01mand\u001B[39;00m\n\u001B[1;32m    512\u001B[0m         parse_constant \u001B[38;5;129;01mis\u001B[39;00m \u001B[38;5;28;01mNone\u001B[39;00m \u001B[38;5;129;01mand\u001B[39;00m object_pairs_hook \u001B[38;5;129;01mis\u001B[39;00m \u001B[38;5;28;01mNone\u001B[39;00m\n\u001B[1;32m    513\u001B[0m         \u001B[38;5;129;01mand\u001B[39;00m \u001B[38;5;129;01mnot\u001B[39;00m use_decimal \u001B[38;5;129;01mand\u001B[39;00m \u001B[38;5;129;01mnot\u001B[39;00m allow_nan \u001B[38;5;129;01mand\u001B[39;00m \u001B[38;5;129;01mnot\u001B[39;00m kw):\n\u001B[0;32m--> 514\u001B[0m     \u001B[38;5;28;01mreturn\u001B[39;00m \u001B[43m_default_decoder\u001B[49m\u001B[38;5;241;43m.\u001B[39;49m\u001B[43mdecode\u001B[49m\u001B[43m(\u001B[49m\u001B[43ms\u001B[49m\u001B[43m)\u001B[49m\n\u001B[1;32m    515\u001B[0m \u001B[38;5;28;01mif\u001B[39;00m \u001B[38;5;28mcls\u001B[39m \u001B[38;5;129;01mis\u001B[39;00m \u001B[38;5;28;01mNone\u001B[39;00m:\n",
      "File \u001B[0;32m~/Documents/NYU/Sems/Fall_2024/Statistical_Arbitarage/FinalProject/optionsVolatility/venv/lib/python3.12/site-packages/simplejson/decoder.py:386\u001B[0m, in \u001B[0;36mJSONDecoder.decode\u001B[0;34m(self, s, _w, _PY3)\u001B[0m\n\u001B[1;32m    385\u001B[0m     s \u001B[38;5;241m=\u001B[39m \u001B[38;5;28mstr\u001B[39m(s, \u001B[38;5;28mself\u001B[39m\u001B[38;5;241m.\u001B[39mencoding)\n\u001B[0;32m--> 386\u001B[0m obj, end \u001B[38;5;241m=\u001B[39m \u001B[38;5;28;43mself\u001B[39;49m\u001B[38;5;241;43m.\u001B[39;49m\u001B[43mraw_decode\u001B[49m\u001B[43m(\u001B[49m\u001B[43ms\u001B[49m\u001B[43m)\u001B[49m\n\u001B[1;32m    387\u001B[0m end \u001B[38;5;241m=\u001B[39m _w(s, end)\u001B[38;5;241m.\u001B[39mend()\n",
      "File \u001B[0;32m~/Documents/NYU/Sems/Fall_2024/Statistical_Arbitarage/FinalProject/optionsVolatility/venv/lib/python3.12/site-packages/simplejson/decoder.py:416\u001B[0m, in \u001B[0;36mJSONDecoder.raw_decode\u001B[0;34m(self, s, idx, _w, _PY3)\u001B[0m\n\u001B[1;32m    415\u001B[0m         idx \u001B[38;5;241m+\u001B[39m\u001B[38;5;241m=\u001B[39m \u001B[38;5;241m3\u001B[39m\n\u001B[0;32m--> 416\u001B[0m \u001B[38;5;28;01mreturn\u001B[39;00m \u001B[38;5;28;43mself\u001B[39;49m\u001B[38;5;241;43m.\u001B[39;49m\u001B[43mscan_once\u001B[49m\u001B[43m(\u001B[49m\u001B[43ms\u001B[49m\u001B[43m,\u001B[49m\u001B[43m \u001B[49m\u001B[43midx\u001B[49m\u001B[38;5;241;43m=\u001B[39;49m\u001B[43m_w\u001B[49m\u001B[43m(\u001B[49m\u001B[43ms\u001B[49m\u001B[43m,\u001B[49m\u001B[43m \u001B[49m\u001B[43midx\u001B[49m\u001B[43m)\u001B[49m\u001B[38;5;241;43m.\u001B[39;49m\u001B[43mend\u001B[49m\u001B[43m(\u001B[49m\u001B[43m)\u001B[49m\u001B[43m)\u001B[49m\n",
      "\u001B[0;31mJSONDecodeError\u001B[0m: Expecting value: line 1 column 1 (char 0)",
      "\nDuring handling of the above exception, another exception occurred:\n",
      "\u001B[0;31mJSONDecodeError\u001B[0m                           Traceback (most recent call last)",
      "File \u001B[0;32m~/Documents/NYU/Sems/Fall_2024/Statistical_Arbitarage/FinalProject/optionsVolatility/venv/lib/python3.12/site-packages/quandl/connection.py:84\u001B[0m, in \u001B[0;36mConnection.parse\u001B[0;34m(cls, response)\u001B[0m\n\u001B[1;32m     83\u001B[0m \u001B[38;5;28;01mtry\u001B[39;00m:\n\u001B[0;32m---> 84\u001B[0m     \u001B[38;5;28;01mreturn\u001B[39;00m \u001B[43mresponse\u001B[49m\u001B[38;5;241;43m.\u001B[39;49m\u001B[43mjson\u001B[49m\u001B[43m(\u001B[49m\u001B[43m)\u001B[49m\n\u001B[1;32m     85\u001B[0m \u001B[38;5;28;01mexcept\u001B[39;00m \u001B[38;5;167;01mValueError\u001B[39;00m:\n",
      "File \u001B[0;32m~/Documents/NYU/Sems/Fall_2024/Statistical_Arbitarage/FinalProject/optionsVolatility/venv/lib/python3.12/site-packages/requests/models.py:978\u001B[0m, in \u001B[0;36mResponse.json\u001B[0;34m(self, **kwargs)\u001B[0m\n\u001B[1;32m    975\u001B[0m \u001B[38;5;28;01mexcept\u001B[39;00m JSONDecodeError \u001B[38;5;28;01mas\u001B[39;00m e:\n\u001B[1;32m    976\u001B[0m     \u001B[38;5;66;03m# Catch JSON-related errors and raise as requests.JSONDecodeError\u001B[39;00m\n\u001B[1;32m    977\u001B[0m     \u001B[38;5;66;03m# This aliases json.JSONDecodeError and simplejson.JSONDecodeError\u001B[39;00m\n\u001B[0;32m--> 978\u001B[0m     \u001B[38;5;28;01mraise\u001B[39;00m RequestsJSONDecodeError(e\u001B[38;5;241m.\u001B[39mmsg, e\u001B[38;5;241m.\u001B[39mdoc, e\u001B[38;5;241m.\u001B[39mpos)\n",
      "\u001B[0;31mJSONDecodeError\u001B[0m: Expecting value: line 1 column 1 (char 0)",
      "\nDuring handling of the above exception, another exception occurred:\n",
      "\u001B[0;31mQuandlError\u001B[0m                               Traceback (most recent call last)",
      "Cell \u001B[0;32mIn[52], line 7\u001B[0m\n\u001B[1;32m      4\u001B[0m quandl\u001B[38;5;241m.\u001B[39mApiConfig\u001B[38;5;241m.\u001B[39mapi_key \u001B[38;5;241m=\u001B[39m \u001B[38;5;124m\"\u001B[39m\u001B[38;5;124mesWdmx_hK73zGbVQha7y\u001B[39m\u001B[38;5;124m\"\u001B[39m\n\u001B[1;32m      6\u001B[0m \u001B[38;5;66;03m# Example for NIFTY index data (replace with your specific dataset code)\u001B[39;00m\n\u001B[0;32m----> 7\u001B[0m data \u001B[38;5;241m=\u001B[39m \u001B[43mquandl\u001B[49m\u001B[38;5;241;43m.\u001B[39;49m\u001B[43mget\u001B[49m\u001B[43m(\u001B[49m\u001B[38;5;124;43m\"\u001B[39;49m\u001B[38;5;124;43mNSE/NIFTY_50\u001B[39;49m\u001B[38;5;124;43m\"\u001B[39;49m\u001B[43m,\u001B[49m\u001B[43m \u001B[49m\u001B[43mstart_date\u001B[49m\u001B[38;5;241;43m=\u001B[39;49m\u001B[38;5;124;43m\"\u001B[39;49m\u001B[38;5;124;43m2023-01-01\u001B[39;49m\u001B[38;5;124;43m\"\u001B[39;49m\u001B[43m,\u001B[49m\u001B[43m \u001B[49m\u001B[43mend_date\u001B[49m\u001B[38;5;241;43m=\u001B[39;49m\u001B[38;5;124;43m\"\u001B[39;49m\u001B[38;5;124;43m2023-12-31\u001B[39;49m\u001B[38;5;124;43m\"\u001B[39;49m\u001B[43m)\u001B[49m\n\u001B[1;32m      9\u001B[0m \u001B[38;5;66;03m# Display the data\u001B[39;00m\n\u001B[1;32m     10\u001B[0m \u001B[38;5;28mprint\u001B[39m(data)\n",
      "File \u001B[0;32m~/Documents/NYU/Sems/Fall_2024/Statistical_Arbitarage/FinalProject/optionsVolatility/venv/lib/python3.12/site-packages/quandl/get.py:48\u001B[0m, in \u001B[0;36mget\u001B[0;34m(dataset, **kwargs)\u001B[0m\n\u001B[1;32m     46\u001B[0m     \u001B[38;5;28;01mif\u001B[39;00m dataset_args[\u001B[38;5;124m'\u001B[39m\u001B[38;5;124mcolumn_index\u001B[39m\u001B[38;5;124m'\u001B[39m] \u001B[38;5;129;01mis\u001B[39;00m \u001B[38;5;129;01mnot\u001B[39;00m \u001B[38;5;28;01mNone\u001B[39;00m:\n\u001B[1;32m     47\u001B[0m         kwargs\u001B[38;5;241m.\u001B[39mupdate({\u001B[38;5;124m'\u001B[39m\u001B[38;5;124mcolumn_index\u001B[39m\u001B[38;5;124m'\u001B[39m: dataset_args[\u001B[38;5;124m'\u001B[39m\u001B[38;5;124mcolumn_index\u001B[39m\u001B[38;5;124m'\u001B[39m]})\n\u001B[0;32m---> 48\u001B[0m     data \u001B[38;5;241m=\u001B[39m \u001B[43mDataset\u001B[49m\u001B[43m(\u001B[49m\u001B[43mdataset_args\u001B[49m\u001B[43m[\u001B[49m\u001B[38;5;124;43m'\u001B[39;49m\u001B[38;5;124;43mcode\u001B[39;49m\u001B[38;5;124;43m'\u001B[39;49m\u001B[43m]\u001B[49m\u001B[43m)\u001B[49m\u001B[38;5;241;43m.\u001B[39;49m\u001B[43mdata\u001B[49m\u001B[43m(\u001B[49m\u001B[43mparams\u001B[49m\u001B[38;5;241;43m=\u001B[39;49m\u001B[43mkwargs\u001B[49m\u001B[43m,\u001B[49m\u001B[43m \u001B[49m\u001B[43mhandle_column_not_found\u001B[49m\u001B[38;5;241;43m=\u001B[39;49m\u001B[38;5;28;43;01mTrue\u001B[39;49;00m\u001B[43m)\u001B[49m\n\u001B[1;32m     49\u001B[0m \u001B[38;5;66;03m# Array\u001B[39;00m\n\u001B[1;32m     50\u001B[0m \u001B[38;5;28;01melif\u001B[39;00m \u001B[38;5;28misinstance\u001B[39m(dataset, \u001B[38;5;28mlist\u001B[39m):\n",
      "File \u001B[0;32m~/Documents/NYU/Sems/Fall_2024/Statistical_Arbitarage/FinalProject/optionsVolatility/venv/lib/python3.12/site-packages/quandl/model/dataset.py:47\u001B[0m, in \u001B[0;36mDataset.data\u001B[0;34m(self, **options)\u001B[0m\n\u001B[1;32m     45\u001B[0m updated_options \u001B[38;5;241m=\u001B[39m Util\u001B[38;5;241m.\u001B[39mmerge_options(\u001B[38;5;124m'\u001B[39m\u001B[38;5;124mparams\u001B[39m\u001B[38;5;124m'\u001B[39m, params, \u001B[38;5;241m*\u001B[39m\u001B[38;5;241m*\u001B[39moptions)\n\u001B[1;32m     46\u001B[0m \u001B[38;5;28;01mtry\u001B[39;00m:\n\u001B[0;32m---> 47\u001B[0m     \u001B[38;5;28;01mreturn\u001B[39;00m \u001B[43mData\u001B[49m\u001B[38;5;241;43m.\u001B[39;49m\u001B[43mall\u001B[49m\u001B[43m(\u001B[49m\u001B[38;5;241;43m*\u001B[39;49m\u001B[38;5;241;43m*\u001B[39;49m\u001B[43mupdated_options\u001B[49m\u001B[43m)\u001B[49m\n\u001B[1;32m     48\u001B[0m \u001B[38;5;28;01mexcept\u001B[39;00m NotFoundError:\n\u001B[1;32m     49\u001B[0m     \u001B[38;5;28;01mif\u001B[39;00m handle_not_found_error:\n",
      "File \u001B[0;32m~/Documents/NYU/Sems/Fall_2024/Statistical_Arbitarage/FinalProject/optionsVolatility/venv/lib/python3.12/site-packages/quandl/operations/list.py:15\u001B[0m, in \u001B[0;36mListOperation.all\u001B[0;34m(cls, **options)\u001B[0m\n\u001B[1;32m     13\u001B[0m     options[\u001B[38;5;124m'\u001B[39m\u001B[38;5;124mparams\u001B[39m\u001B[38;5;124m'\u001B[39m] \u001B[38;5;241m=\u001B[39m {}\n\u001B[1;32m     14\u001B[0m path \u001B[38;5;241m=\u001B[39m Util\u001B[38;5;241m.\u001B[39mconstructed_path(\u001B[38;5;28mcls\u001B[39m\u001B[38;5;241m.\u001B[39mlist_path(), options[\u001B[38;5;124m'\u001B[39m\u001B[38;5;124mparams\u001B[39m\u001B[38;5;124m'\u001B[39m])\n\u001B[0;32m---> 15\u001B[0m r \u001B[38;5;241m=\u001B[39m \u001B[43mConnection\u001B[49m\u001B[38;5;241;43m.\u001B[39;49m\u001B[43mrequest\u001B[49m\u001B[43m(\u001B[49m\u001B[38;5;124;43m'\u001B[39;49m\u001B[38;5;124;43mget\u001B[39;49m\u001B[38;5;124;43m'\u001B[39;49m\u001B[43m,\u001B[49m\u001B[43m \u001B[49m\u001B[43mpath\u001B[49m\u001B[43m,\u001B[49m\u001B[43m \u001B[49m\u001B[38;5;241;43m*\u001B[39;49m\u001B[38;5;241;43m*\u001B[39;49m\u001B[43moptions\u001B[49m\u001B[43m)\u001B[49m\n\u001B[1;32m     16\u001B[0m response_data \u001B[38;5;241m=\u001B[39m r\u001B[38;5;241m.\u001B[39mjson()\n\u001B[1;32m     17\u001B[0m Util\u001B[38;5;241m.\u001B[39mconvert_to_dates(response_data)\n",
      "File \u001B[0;32m~/Documents/NYU/Sems/Fall_2024/Statistical_Arbitarage/FinalProject/optionsVolatility/venv/lib/python3.12/site-packages/quandl/connection.py:38\u001B[0m, in \u001B[0;36mConnection.request\u001B[0;34m(cls, http_verb, url, **options)\u001B[0m\n\u001B[1;32m     34\u001B[0m options[\u001B[38;5;124m'\u001B[39m\u001B[38;5;124mheaders\u001B[39m\u001B[38;5;124m'\u001B[39m] \u001B[38;5;241m=\u001B[39m headers\n\u001B[1;32m     36\u001B[0m abs_url \u001B[38;5;241m=\u001B[39m \u001B[38;5;124m'\u001B[39m\u001B[38;5;132;01m%s\u001B[39;00m\u001B[38;5;124m/\u001B[39m\u001B[38;5;132;01m%s\u001B[39;00m\u001B[38;5;124m'\u001B[39m \u001B[38;5;241m%\u001B[39m (ApiConfig\u001B[38;5;241m.\u001B[39mapi_base, url)\n\u001B[0;32m---> 38\u001B[0m \u001B[38;5;28;01mreturn\u001B[39;00m \u001B[38;5;28;43mcls\u001B[39;49m\u001B[38;5;241;43m.\u001B[39;49m\u001B[43mexecute_request\u001B[49m\u001B[43m(\u001B[49m\u001B[43mhttp_verb\u001B[49m\u001B[43m,\u001B[49m\u001B[43m \u001B[49m\u001B[43mabs_url\u001B[49m\u001B[43m,\u001B[49m\u001B[43m \u001B[49m\u001B[38;5;241;43m*\u001B[39;49m\u001B[38;5;241;43m*\u001B[39;49m\u001B[43moptions\u001B[49m\u001B[43m)\u001B[49m\n",
      "File \u001B[0;32m~/Documents/NYU/Sems/Fall_2024/Statistical_Arbitarage/FinalProject/optionsVolatility/venv/lib/python3.12/site-packages/quandl/connection.py:50\u001B[0m, in \u001B[0;36mConnection.execute_request\u001B[0;34m(cls, http_verb, url, **options)\u001B[0m\n\u001B[1;32m     45\u001B[0m response \u001B[38;5;241m=\u001B[39m session\u001B[38;5;241m.\u001B[39mrequest(method\u001B[38;5;241m=\u001B[39mhttp_verb,\n\u001B[1;32m     46\u001B[0m                            url\u001B[38;5;241m=\u001B[39murl,\n\u001B[1;32m     47\u001B[0m                            verify\u001B[38;5;241m=\u001B[39mApiConfig\u001B[38;5;241m.\u001B[39mverify_ssl,\n\u001B[1;32m     48\u001B[0m                            \u001B[38;5;241m*\u001B[39m\u001B[38;5;241m*\u001B[39moptions)\n\u001B[1;32m     49\u001B[0m \u001B[38;5;28;01mif\u001B[39;00m response\u001B[38;5;241m.\u001B[39mstatus_code \u001B[38;5;241m<\u001B[39m \u001B[38;5;241m200\u001B[39m \u001B[38;5;129;01mor\u001B[39;00m response\u001B[38;5;241m.\u001B[39mstatus_code \u001B[38;5;241m>\u001B[39m\u001B[38;5;241m=\u001B[39m \u001B[38;5;241m300\u001B[39m:\n\u001B[0;32m---> 50\u001B[0m     \u001B[38;5;28;43mcls\u001B[39;49m\u001B[38;5;241;43m.\u001B[39;49m\u001B[43mhandle_api_error\u001B[49m\u001B[43m(\u001B[49m\u001B[43mresponse\u001B[49m\u001B[43m)\u001B[49m\n\u001B[1;32m     51\u001B[0m \u001B[38;5;28;01melse\u001B[39;00m:\n\u001B[1;32m     52\u001B[0m     \u001B[38;5;28;01mreturn\u001B[39;00m response\n",
      "File \u001B[0;32m~/Documents/NYU/Sems/Fall_2024/Statistical_Arbitarage/FinalProject/optionsVolatility/venv/lib/python3.12/site-packages/quandl/connection.py:90\u001B[0m, in \u001B[0;36mConnection.handle_api_error\u001B[0;34m(cls, resp)\u001B[0m\n\u001B[1;32m     88\u001B[0m \u001B[38;5;129m@classmethod\u001B[39m\n\u001B[1;32m     89\u001B[0m \u001B[38;5;28;01mdef\u001B[39;00m \u001B[38;5;21mhandle_api_error\u001B[39m(\u001B[38;5;28mcls\u001B[39m, resp):\n\u001B[0;32m---> 90\u001B[0m     error_body \u001B[38;5;241m=\u001B[39m \u001B[38;5;28;43mcls\u001B[39;49m\u001B[38;5;241;43m.\u001B[39;49m\u001B[43mparse\u001B[49m\u001B[43m(\u001B[49m\u001B[43mresp\u001B[49m\u001B[43m)\u001B[49m\n\u001B[1;32m     92\u001B[0m     \u001B[38;5;66;03m# if our app does not form a proper quandl_error response\u001B[39;00m\n\u001B[1;32m     93\u001B[0m     \u001B[38;5;66;03m# throw generic error\u001B[39;00m\n\u001B[1;32m     94\u001B[0m     \u001B[38;5;28;01mif\u001B[39;00m \u001B[38;5;124m'\u001B[39m\u001B[38;5;124mquandl_error\u001B[39m\u001B[38;5;124m'\u001B[39m \u001B[38;5;129;01mnot\u001B[39;00m \u001B[38;5;129;01min\u001B[39;00m error_body:\n",
      "File \u001B[0;32m~/Documents/NYU/Sems/Fall_2024/Statistical_Arbitarage/FinalProject/optionsVolatility/venv/lib/python3.12/site-packages/quandl/connection.py:86\u001B[0m, in \u001B[0;36mConnection.parse\u001B[0;34m(cls, response)\u001B[0m\n\u001B[1;32m     84\u001B[0m     \u001B[38;5;28;01mreturn\u001B[39;00m response\u001B[38;5;241m.\u001B[39mjson()\n\u001B[1;32m     85\u001B[0m \u001B[38;5;28;01mexcept\u001B[39;00m \u001B[38;5;167;01mValueError\u001B[39;00m:\n\u001B[0;32m---> 86\u001B[0m     \u001B[38;5;28;01mraise\u001B[39;00m QuandlError(http_status\u001B[38;5;241m=\u001B[39mresponse\u001B[38;5;241m.\u001B[39mstatus_code, http_body\u001B[38;5;241m=\u001B[39mresponse\u001B[38;5;241m.\u001B[39mtext)\n",
      "\u001B[0;31mQuandlError\u001B[0m: (Status 403) Something went wrong. Please try again. If you continue to have problems, please contact us at connect@quandl.com."
     ]
    }
   ],
   "execution_count": 52
  },
  {
   "metadata": {
    "ExecuteTime": {
     "end_time": "2024-12-22T20:51:27.089975Z",
     "start_time": "2024-12-22T20:51:26.423793Z"
    }
   },
   "cell_type": "code",
   "source": [
    "import yfinance as yf\n",
    "\n",
    "# Set the ticker for SPY (S&P 500 ETF)\n",
    "ticker = yf.Ticker(\"SPY\")\n",
    "\n",
    "# Get available expiry dates for options\n",
    "expiry_dates = ticker.options\n",
    "print(\"Available Expiry Dates:\", expiry_dates)\n",
    "\n",
    "# Select a specific expiry date\n",
    "selected_expiry = expiry_dates[0]  # Choose the first available expiry\n",
    "\n",
    "# Fetch options chain for the selected expiry date\n",
    "options_chain = ticker.option_chain(selected_expiry)\n",
    "\n",
    "# Call and Put options\n",
    "calls = options_chain.calls\n",
    "puts = options_chain.puts\n",
    "\n",
    "# Display data\n",
    "print(\"Calls:\")\n",
    "print(calls)\n",
    "\n",
    "print(\"\\nPuts:\")\n",
    "print(puts)\n"
   ],
   "id": "3aa74eba0f8c8e10",
   "outputs": [
    {
     "name": "stdout",
     "output_type": "stream",
     "text": [
      "Available Expiry Dates: ('2024-12-23', '2024-12-24', '2024-12-26', '2024-12-27', '2024-12-30', '2024-12-31', '2025-01-02', '2025-01-03', '2025-01-10', '2025-01-17', '2025-01-24', '2025-01-31', '2025-02-21', '2025-02-28', '2025-03-21', '2025-03-31', '2025-04-17', '2025-04-30', '2025-05-16', '2025-05-30', '2025-06-20', '2025-06-30', '2025-07-18', '2025-08-15', '2025-09-19', '2025-09-30', '2025-12-19', '2026-01-16', '2026-03-20', '2026-06-18', '2026-12-18', '2027-01-15')\n",
      "Calls:\n",
      "        contractSymbol             lastTradeDate  strike  lastPrice     bid  \\\n",
      "0   SPY241223C00400000 2024-12-19 16:42:16+00:00   400.0     191.00  190.21   \n",
      "1   SPY241223C00480000 2024-12-18 18:38:32+00:00   480.0     126.00  110.23   \n",
      "2   SPY241223C00490000 2024-12-20 14:43:22+00:00   490.0      93.00  100.23   \n",
      "3   SPY241223C00500000 2024-12-20 15:56:51+00:00   500.0      88.57   90.24   \n",
      "4   SPY241223C00505000 2024-12-20 14:54:14+00:00   505.0      77.88   85.23   \n",
      "..                 ...                       ...     ...        ...     ...   \n",
      "83  SPY241223C00675000 2024-12-19 16:00:02+00:00   675.0       0.01    0.00   \n",
      "84  SPY241223C00680000 2024-12-13 14:42:30+00:00   680.0       0.01    0.00   \n",
      "85  SPY241223C00685000 2024-12-13 15:38:02+00:00   685.0       0.01    0.00   \n",
      "86  SPY241223C00690000 2024-12-16 18:27:24+00:00   690.0       0.01    0.00   \n",
      "87  SPY241223C00695000 2024-12-20 16:29:16+00:00   695.0       0.01    0.00   \n",
      "\n",
      "       ask  change  percentChange  volume  openInterest  impliedVolatility  \\\n",
      "0   191.44  191.00            NaN     NaN             0           2.283207   \n",
      "1   111.41  126.00            NaN     NaN             0           1.289066   \n",
      "2   101.46   93.00            NaN     3.0             0           1.207035   \n",
      "3    91.41   88.57            NaN     2.0             0           1.065434   \n",
      "4    86.41   77.88            NaN     1.0             0           1.009771   \n",
      "..     ...     ...            ...     ...           ...                ...   \n",
      "83    0.01    0.00            0.0     1.0            76           0.562504   \n",
      "84    0.01    0.00            0.0     NaN          5640           0.593754   \n",
      "85    0.01    0.00            0.0     NaN          5455           0.625004   \n",
      "86    0.01    0.00            0.0    50.0          5293           0.640629   \n",
      "87    0.01    0.01            NaN     3.0             1           0.671878   \n",
      "\n",
      "    inTheMoney contractSize currency  \n",
      "0         True      REGULAR      USD  \n",
      "1         True      REGULAR      USD  \n",
      "2         True      REGULAR      USD  \n",
      "3         True      REGULAR      USD  \n",
      "4         True      REGULAR      USD  \n",
      "..         ...          ...      ...  \n",
      "83       False      REGULAR      USD  \n",
      "84       False      REGULAR      USD  \n",
      "85       False      REGULAR      USD  \n",
      "86       False      REGULAR      USD  \n",
      "87       False      REGULAR      USD  \n",
      "\n",
      "[88 rows x 14 columns]\n",
      "\n",
      "Puts:\n",
      "        contractSymbol             lastTradeDate  strike  lastPrice     bid  \\\n",
      "0   SPY241223P00400000 2024-12-20 14:36:47+00:00   400.0       0.01    0.00   \n",
      "1   SPY241223P00405000 2024-12-19 17:26:09+00:00   405.0       0.04    0.00   \n",
      "2   SPY241223P00410000 2024-12-19 16:53:12+00:00   410.0       0.03    0.00   \n",
      "3   SPY241223P00415000 2024-12-19 14:30:52+00:00   415.0       0.01    0.00   \n",
      "4   SPY241223P00420000 2024-12-19 21:13:50+00:00   420.0       0.02    0.00   \n",
      "..                 ...                       ...     ...        ...     ...   \n",
      "89  SPY241223P00630000 2024-12-10 19:43:14+00:00   630.0      26.88   38.70   \n",
      "90  SPY241223P00640000 2024-12-11 16:13:10+00:00   640.0      34.01   48.63   \n",
      "91  SPY241223P00650000 2024-12-11 17:28:51+00:00   650.0      43.11   58.68   \n",
      "92  SPY241223P00660000 2024-12-19 14:56:24+00:00   660.0      71.22   68.68   \n",
      "93  SPY241223P00695000 2024-12-20 18:52:49+00:00   695.0     102.32  103.67   \n",
      "\n",
      "       ask  change  percentChange  volume  openInterest  impliedVolatility  \\\n",
      "0     0.01    0.01            NaN     2.0           173           1.562502   \n",
      "1     0.01    0.04            NaN     NaN             1           1.500002   \n",
      "2     0.01    0.03            NaN     NaN            10           1.468753   \n",
      "3     0.01    0.01            NaN     NaN             3           1.406253   \n",
      "4     0.01    0.02            NaN     NaN            25           1.375003   \n",
      "..     ...     ...            ...     ...           ...                ...   \n",
      "89   39.85    0.00            0.0     NaN             0           0.507573   \n",
      "90   49.85    0.00            0.0     NaN             2           0.596684   \n",
      "91   59.85    0.00            0.0     NaN             1           0.697757   \n",
      "92   69.86   71.22            NaN     NaN            10           0.790041   \n",
      "93  104.85  102.32            NaN   160.0            10           1.081059   \n",
      "\n",
      "    inTheMoney contractSize currency  \n",
      "0        False      REGULAR      USD  \n",
      "1        False      REGULAR      USD  \n",
      "2        False      REGULAR      USD  \n",
      "3        False      REGULAR      USD  \n",
      "4        False      REGULAR      USD  \n",
      "..         ...          ...      ...  \n",
      "89        True      REGULAR      USD  \n",
      "90        True      REGULAR      USD  \n",
      "91        True      REGULAR      USD  \n",
      "92        True      REGULAR      USD  \n",
      "93        True      REGULAR      USD  \n",
      "\n",
      "[94 rows x 14 columns]\n"
     ]
    }
   ],
   "execution_count": 53
  }
 ],
 "metadata": {
  "kernelspec": {
   "display_name": "Python 3",
   "language": "python",
   "name": "python3"
  },
  "language_info": {
   "codemirror_mode": {
    "name": "ipython",
    "version": 2
   },
   "file_extension": ".py",
   "mimetype": "text/x-python",
   "name": "python",
   "nbconvert_exporter": "python",
   "pygments_lexer": "ipython2",
   "version": "2.7.6"
  }
 },
 "nbformat": 4,
 "nbformat_minor": 5
}
